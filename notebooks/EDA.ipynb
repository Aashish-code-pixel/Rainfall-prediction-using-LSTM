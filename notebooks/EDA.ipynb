import pandas as pd
import matplotlib.pyplot as plt
import seaborn as sns

# Load dataset
df = pd.read_csv("../data/rainfall_data.csv", parse_dates=["Date"], index_col="Date")

# Display basic info
print(df.info())

# Plot rainfall over time
plt.figure(figsize=(10,5))
plt.plot(df.index, df["Rainfall"], label="Rainfall (mm)")
plt.xlabel("Date")
plt.ylabel("Rainfall (mm)")
plt.legend()
plt.show()

# Correlation heatmap
sns.heatmap(df.corr(), annot=True, cmap="coolwarm")
plt.show()
